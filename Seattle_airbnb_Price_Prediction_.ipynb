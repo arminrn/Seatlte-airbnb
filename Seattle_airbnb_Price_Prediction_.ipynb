{
  "nbformat": 4,
  "nbformat_minor": 0,
  "metadata": {
    "colab": {
      "provenance": [],
      "collapsed_sections": []
    },
    "kernelspec": {
      "name": "python3",
      "display_name": "Python 3"
    },
    "language_info": {
      "name": "python"
    }
  },
  "cells": [
    {
      "cell_type": "markdown",
      "source": [
        "1- Business understanding\n",
        "In this part, we are going to predict the price of airbnb houses, based on Seattle Airbnb Open Data which is provided by kaggle using listing dataset Being able to predict the price of airbnb houses can be helpful for landlords and guests to analyse the price properly.\n",
        "    \n",
        "\n",
        "2- Data understanding\n",
        "There 3 files on dataset that only Listing dataset was useful for our evaluation. Based on Listing dataset, there are 30 columns, and 20 columns have been chosen to analyse the price and revew score value. Among these 20 columns 12 columns had missing values. \n",
        "\n",
        "3- Data preparation\n",
        "A function has been created to replace NA with 0 in review related featueres due to the high missing values in these column, then rest of columns with minor missing values has been droped.\n",
        "Finally, numeric features have been chosen for prediction.\n",
        "\n",
        "4- Data Modeling\n",
        "Two algorythms have been used to predict the price, Linear Regression and Random Forest Regressor. Therefore, after spliting the data to train and test, we need to do 4 stepts to model the data, first instantiate, secondly fit the model, then predict and finnaly score the model.\n",
        "\n",
        "5- Result Evaluation\n",
        "Two method have been used to evaluate the models, r2_score, and mean_squared_error and the results says:\n",
        "Linear Regression: r2_score= 0.46, mean_squared_error= 4225.5\n",
        "Random Forest Regressor: r2_score= 0.48, mean_squared_error= 4097.3"
      ],
      "metadata": {
        "id": "JuOXaPvFfJeV"
      }
    },
    {
      "cell_type": "code",
      "execution_count": 1,
      "metadata": {
        "id": "tHqHVJxmG-2X"
      },
      "outputs": [],
      "source": [
        "from google.colab import drive"
      ]
    },
    {
      "cell_type": "code",
      "source": [
        "drive.mount(\"/content/drive\")"
      ],
      "metadata": {
        "colab": {
          "base_uri": "https://localhost:8080/"
        },
        "id": "j4Ss3fz6HE7j",
        "outputId": "46cef7b9-23f8-428c-a281-7a014f4dfac7"
      },
      "execution_count": 2,
      "outputs": [
        {
          "output_type": "stream",
          "name": "stdout",
          "text": [
            "Mounted at /content/drive\n"
          ]
        }
      ]
    },
    {
      "cell_type": "code",
      "source": [
        "import pandas as pd\n",
        "\n",
        "listings=\"/content/drive/MyDrive/listings.csv\"\n",
        "df = pd.read_csv(listings)"
      ],
      "metadata": {
        "id": "ElT14j2THE46"
      },
      "execution_count": 3,
      "outputs": []
    },
    {
      "cell_type": "code",
      "source": [
        "import numpy as np\n",
        "import pandas as pd\n",
        "import matplotlib.pyplot as plt\n",
        "from sklearn.preprocessing import StandardScaler\n",
        "from sklearn.linear_model import LinearRegression\n",
        "from sklearn.model_selection import train_test_split\n",
        "from sklearn.metrics import r2_score, mean_squared_error\n",
        "from sklearn.ensemble import RandomForestRegressor \n",
        "import seaborn as sns"
      ],
      "metadata": {
        "id": "PKMFaUUfHE3G"
      },
      "execution_count": 4,
      "outputs": []
    },
    {
      "cell_type": "code",
      "source": [
        "df.describe()"
      ],
      "metadata": {
        "colab": {
          "base_uri": "https://localhost:8080/",
          "height": 394
        },
        "id": "3m7Gsj0pHE1A",
        "outputId": "635624b6-f0d3-417e-bdf0-17f9a0fadd72"
      },
      "execution_count": 5,
      "outputs": [
        {
          "output_type": "execute_result",
          "data": {
            "text/plain": [
              "                 id     scrape_id       host_id  host_listings_count  \\\n",
              "count  3.818000e+03  3.818000e+03  3.818000e+03          3816.000000   \n",
              "mean   5.550111e+06  2.016010e+13  1.578556e+07             7.157757   \n",
              "std    2.962660e+06  0.000000e+00  1.458382e+07            28.628149   \n",
              "min    3.335000e+03  2.016010e+13  4.193000e+03             1.000000   \n",
              "25%    3.258256e+06  2.016010e+13  3.275204e+06             1.000000   \n",
              "50%    6.118244e+06  2.016010e+13  1.055814e+07             1.000000   \n",
              "75%    8.035127e+06  2.016010e+13  2.590309e+07             3.000000   \n",
              "max    1.034016e+07  2.016010e+13  5.320861e+07           502.000000   \n",
              "\n",
              "       host_total_listings_count     latitude    longitude  accommodates  \\\n",
              "count                3816.000000  3818.000000  3818.000000   3818.000000   \n",
              "mean                    7.157757    47.628961  -122.333103      3.349398   \n",
              "std                    28.628149     0.043052     0.031745      1.977599   \n",
              "min                     1.000000    47.505088  -122.417219      1.000000   \n",
              "25%                     1.000000    47.609418  -122.354320      2.000000   \n",
              "50%                     1.000000    47.623601  -122.328874      3.000000   \n",
              "75%                     3.000000    47.662694  -122.310800      4.000000   \n",
              "max                   502.000000    47.733358  -122.240607     16.000000   \n",
              "\n",
              "         bathrooms     bedrooms  ...  review_scores_rating  \\\n",
              "count  3802.000000  3812.000000  ...           3171.000000   \n",
              "mean      1.259469     1.307712  ...             94.539262   \n",
              "std       0.590369     0.883395  ...              6.606083   \n",
              "min       0.000000     0.000000  ...             20.000000   \n",
              "25%       1.000000     1.000000  ...             93.000000   \n",
              "50%       1.000000     1.000000  ...             96.000000   \n",
              "75%       1.000000     2.000000  ...             99.000000   \n",
              "max       8.000000     7.000000  ...            100.000000   \n",
              "\n",
              "       review_scores_accuracy  review_scores_cleanliness  \\\n",
              "count             3160.000000                3165.000000   \n",
              "mean                 9.636392                   9.556398   \n",
              "std                  0.698031                   0.797274   \n",
              "min                  2.000000                   3.000000   \n",
              "25%                  9.000000                   9.000000   \n",
              "50%                 10.000000                  10.000000   \n",
              "75%                 10.000000                  10.000000   \n",
              "max                 10.000000                  10.000000   \n",
              "\n",
              "       review_scores_checkin  review_scores_communication  \\\n",
              "count            3160.000000                  3167.000000   \n",
              "mean                9.786709                     9.809599   \n",
              "std                 0.595499                     0.568211   \n",
              "min                 2.000000                     2.000000   \n",
              "25%                10.000000                    10.000000   \n",
              "50%                10.000000                    10.000000   \n",
              "75%                10.000000                    10.000000   \n",
              "max                10.000000                    10.000000   \n",
              "\n",
              "       review_scores_location  review_scores_value  license  \\\n",
              "count             3163.000000          3162.000000      0.0   \n",
              "mean                 9.608916             9.452245      NaN   \n",
              "std                  0.629053             0.750259      NaN   \n",
              "min                  4.000000             2.000000      NaN   \n",
              "25%                  9.000000             9.000000      NaN   \n",
              "50%                 10.000000            10.000000      NaN   \n",
              "75%                 10.000000            10.000000      NaN   \n",
              "max                 10.000000            10.000000      NaN   \n",
              "\n",
              "       calculated_host_listings_count  reviews_per_month  \n",
              "count                     3818.000000        3191.000000  \n",
              "mean                         2.946307           2.078919  \n",
              "std                          5.893029           1.822348  \n",
              "min                          1.000000           0.020000  \n",
              "25%                          1.000000           0.695000  \n",
              "50%                          1.000000           1.540000  \n",
              "75%                          2.000000           3.000000  \n",
              "max                         37.000000          12.150000  \n",
              "\n",
              "[8 rows x 30 columns]"
            ],
            "text/html": [
              "\n",
              "  <div id=\"df-44383e42-641f-45a0-a38f-94be8afcc456\">\n",
              "    <div class=\"colab-df-container\">\n",
              "      <div>\n",
              "<style scoped>\n",
              "    .dataframe tbody tr th:only-of-type {\n",
              "        vertical-align: middle;\n",
              "    }\n",
              "\n",
              "    .dataframe tbody tr th {\n",
              "        vertical-align: top;\n",
              "    }\n",
              "\n",
              "    .dataframe thead th {\n",
              "        text-align: right;\n",
              "    }\n",
              "</style>\n",
              "<table border=\"1\" class=\"dataframe\">\n",
              "  <thead>\n",
              "    <tr style=\"text-align: right;\">\n",
              "      <th></th>\n",
              "      <th>id</th>\n",
              "      <th>scrape_id</th>\n",
              "      <th>host_id</th>\n",
              "      <th>host_listings_count</th>\n",
              "      <th>host_total_listings_count</th>\n",
              "      <th>latitude</th>\n",
              "      <th>longitude</th>\n",
              "      <th>accommodates</th>\n",
              "      <th>bathrooms</th>\n",
              "      <th>bedrooms</th>\n",
              "      <th>...</th>\n",
              "      <th>review_scores_rating</th>\n",
              "      <th>review_scores_accuracy</th>\n",
              "      <th>review_scores_cleanliness</th>\n",
              "      <th>review_scores_checkin</th>\n",
              "      <th>review_scores_communication</th>\n",
              "      <th>review_scores_location</th>\n",
              "      <th>review_scores_value</th>\n",
              "      <th>license</th>\n",
              "      <th>calculated_host_listings_count</th>\n",
              "      <th>reviews_per_month</th>\n",
              "    </tr>\n",
              "  </thead>\n",
              "  <tbody>\n",
              "    <tr>\n",
              "      <th>count</th>\n",
              "      <td>3.818000e+03</td>\n",
              "      <td>3.818000e+03</td>\n",
              "      <td>3.818000e+03</td>\n",
              "      <td>3816.000000</td>\n",
              "      <td>3816.000000</td>\n",
              "      <td>3818.000000</td>\n",
              "      <td>3818.000000</td>\n",
              "      <td>3818.000000</td>\n",
              "      <td>3802.000000</td>\n",
              "      <td>3812.000000</td>\n",
              "      <td>...</td>\n",
              "      <td>3171.000000</td>\n",
              "      <td>3160.000000</td>\n",
              "      <td>3165.000000</td>\n",
              "      <td>3160.000000</td>\n",
              "      <td>3167.000000</td>\n",
              "      <td>3163.000000</td>\n",
              "      <td>3162.000000</td>\n",
              "      <td>0.0</td>\n",
              "      <td>3818.000000</td>\n",
              "      <td>3191.000000</td>\n",
              "    </tr>\n",
              "    <tr>\n",
              "      <th>mean</th>\n",
              "      <td>5.550111e+06</td>\n",
              "      <td>2.016010e+13</td>\n",
              "      <td>1.578556e+07</td>\n",
              "      <td>7.157757</td>\n",
              "      <td>7.157757</td>\n",
              "      <td>47.628961</td>\n",
              "      <td>-122.333103</td>\n",
              "      <td>3.349398</td>\n",
              "      <td>1.259469</td>\n",
              "      <td>1.307712</td>\n",
              "      <td>...</td>\n",
              "      <td>94.539262</td>\n",
              "      <td>9.636392</td>\n",
              "      <td>9.556398</td>\n",
              "      <td>9.786709</td>\n",
              "      <td>9.809599</td>\n",
              "      <td>9.608916</td>\n",
              "      <td>9.452245</td>\n",
              "      <td>NaN</td>\n",
              "      <td>2.946307</td>\n",
              "      <td>2.078919</td>\n",
              "    </tr>\n",
              "    <tr>\n",
              "      <th>std</th>\n",
              "      <td>2.962660e+06</td>\n",
              "      <td>0.000000e+00</td>\n",
              "      <td>1.458382e+07</td>\n",
              "      <td>28.628149</td>\n",
              "      <td>28.628149</td>\n",
              "      <td>0.043052</td>\n",
              "      <td>0.031745</td>\n",
              "      <td>1.977599</td>\n",
              "      <td>0.590369</td>\n",
              "      <td>0.883395</td>\n",
              "      <td>...</td>\n",
              "      <td>6.606083</td>\n",
              "      <td>0.698031</td>\n",
              "      <td>0.797274</td>\n",
              "      <td>0.595499</td>\n",
              "      <td>0.568211</td>\n",
              "      <td>0.629053</td>\n",
              "      <td>0.750259</td>\n",
              "      <td>NaN</td>\n",
              "      <td>5.893029</td>\n",
              "      <td>1.822348</td>\n",
              "    </tr>\n",
              "    <tr>\n",
              "      <th>min</th>\n",
              "      <td>3.335000e+03</td>\n",
              "      <td>2.016010e+13</td>\n",
              "      <td>4.193000e+03</td>\n",
              "      <td>1.000000</td>\n",
              "      <td>1.000000</td>\n",
              "      <td>47.505088</td>\n",
              "      <td>-122.417219</td>\n",
              "      <td>1.000000</td>\n",
              "      <td>0.000000</td>\n",
              "      <td>0.000000</td>\n",
              "      <td>...</td>\n",
              "      <td>20.000000</td>\n",
              "      <td>2.000000</td>\n",
              "      <td>3.000000</td>\n",
              "      <td>2.000000</td>\n",
              "      <td>2.000000</td>\n",
              "      <td>4.000000</td>\n",
              "      <td>2.000000</td>\n",
              "      <td>NaN</td>\n",
              "      <td>1.000000</td>\n",
              "      <td>0.020000</td>\n",
              "    </tr>\n",
              "    <tr>\n",
              "      <th>25%</th>\n",
              "      <td>3.258256e+06</td>\n",
              "      <td>2.016010e+13</td>\n",
              "      <td>3.275204e+06</td>\n",
              "      <td>1.000000</td>\n",
              "      <td>1.000000</td>\n",
              "      <td>47.609418</td>\n",
              "      <td>-122.354320</td>\n",
              "      <td>2.000000</td>\n",
              "      <td>1.000000</td>\n",
              "      <td>1.000000</td>\n",
              "      <td>...</td>\n",
              "      <td>93.000000</td>\n",
              "      <td>9.000000</td>\n",
              "      <td>9.000000</td>\n",
              "      <td>10.000000</td>\n",
              "      <td>10.000000</td>\n",
              "      <td>9.000000</td>\n",
              "      <td>9.000000</td>\n",
              "      <td>NaN</td>\n",
              "      <td>1.000000</td>\n",
              "      <td>0.695000</td>\n",
              "    </tr>\n",
              "    <tr>\n",
              "      <th>50%</th>\n",
              "      <td>6.118244e+06</td>\n",
              "      <td>2.016010e+13</td>\n",
              "      <td>1.055814e+07</td>\n",
              "      <td>1.000000</td>\n",
              "      <td>1.000000</td>\n",
              "      <td>47.623601</td>\n",
              "      <td>-122.328874</td>\n",
              "      <td>3.000000</td>\n",
              "      <td>1.000000</td>\n",
              "      <td>1.000000</td>\n",
              "      <td>...</td>\n",
              "      <td>96.000000</td>\n",
              "      <td>10.000000</td>\n",
              "      <td>10.000000</td>\n",
              "      <td>10.000000</td>\n",
              "      <td>10.000000</td>\n",
              "      <td>10.000000</td>\n",
              "      <td>10.000000</td>\n",
              "      <td>NaN</td>\n",
              "      <td>1.000000</td>\n",
              "      <td>1.540000</td>\n",
              "    </tr>\n",
              "    <tr>\n",
              "      <th>75%</th>\n",
              "      <td>8.035127e+06</td>\n",
              "      <td>2.016010e+13</td>\n",
              "      <td>2.590309e+07</td>\n",
              "      <td>3.000000</td>\n",
              "      <td>3.000000</td>\n",
              "      <td>47.662694</td>\n",
              "      <td>-122.310800</td>\n",
              "      <td>4.000000</td>\n",
              "      <td>1.000000</td>\n",
              "      <td>2.000000</td>\n",
              "      <td>...</td>\n",
              "      <td>99.000000</td>\n",
              "      <td>10.000000</td>\n",
              "      <td>10.000000</td>\n",
              "      <td>10.000000</td>\n",
              "      <td>10.000000</td>\n",
              "      <td>10.000000</td>\n",
              "      <td>10.000000</td>\n",
              "      <td>NaN</td>\n",
              "      <td>2.000000</td>\n",
              "      <td>3.000000</td>\n",
              "    </tr>\n",
              "    <tr>\n",
              "      <th>max</th>\n",
              "      <td>1.034016e+07</td>\n",
              "      <td>2.016010e+13</td>\n",
              "      <td>5.320861e+07</td>\n",
              "      <td>502.000000</td>\n",
              "      <td>502.000000</td>\n",
              "      <td>47.733358</td>\n",
              "      <td>-122.240607</td>\n",
              "      <td>16.000000</td>\n",
              "      <td>8.000000</td>\n",
              "      <td>7.000000</td>\n",
              "      <td>...</td>\n",
              "      <td>100.000000</td>\n",
              "      <td>10.000000</td>\n",
              "      <td>10.000000</td>\n",
              "      <td>10.000000</td>\n",
              "      <td>10.000000</td>\n",
              "      <td>10.000000</td>\n",
              "      <td>10.000000</td>\n",
              "      <td>NaN</td>\n",
              "      <td>37.000000</td>\n",
              "      <td>12.150000</td>\n",
              "    </tr>\n",
              "  </tbody>\n",
              "</table>\n",
              "<p>8 rows × 30 columns</p>\n",
              "</div>\n",
              "      <button class=\"colab-df-convert\" onclick=\"convertToInteractive('df-44383e42-641f-45a0-a38f-94be8afcc456')\"\n",
              "              title=\"Convert this dataframe to an interactive table.\"\n",
              "              style=\"display:none;\">\n",
              "        \n",
              "  <svg xmlns=\"http://www.w3.org/2000/svg\" height=\"24px\"viewBox=\"0 0 24 24\"\n",
              "       width=\"24px\">\n",
              "    <path d=\"M0 0h24v24H0V0z\" fill=\"none\"/>\n",
              "    <path d=\"M18.56 5.44l.94 2.06.94-2.06 2.06-.94-2.06-.94-.94-2.06-.94 2.06-2.06.94zm-11 1L8.5 8.5l.94-2.06 2.06-.94-2.06-.94L8.5 2.5l-.94 2.06-2.06.94zm10 10l.94 2.06.94-2.06 2.06-.94-2.06-.94-.94-2.06-.94 2.06-2.06.94z\"/><path d=\"M17.41 7.96l-1.37-1.37c-.4-.4-.92-.59-1.43-.59-.52 0-1.04.2-1.43.59L10.3 9.45l-7.72 7.72c-.78.78-.78 2.05 0 2.83L4 21.41c.39.39.9.59 1.41.59.51 0 1.02-.2 1.41-.59l7.78-7.78 2.81-2.81c.8-.78.8-2.07 0-2.86zM5.41 20L4 18.59l7.72-7.72 1.47 1.35L5.41 20z\"/>\n",
              "  </svg>\n",
              "      </button>\n",
              "      \n",
              "  <style>\n",
              "    .colab-df-container {\n",
              "      display:flex;\n",
              "      flex-wrap:wrap;\n",
              "      gap: 12px;\n",
              "    }\n",
              "\n",
              "    .colab-df-convert {\n",
              "      background-color: #E8F0FE;\n",
              "      border: none;\n",
              "      border-radius: 50%;\n",
              "      cursor: pointer;\n",
              "      display: none;\n",
              "      fill: #1967D2;\n",
              "      height: 32px;\n",
              "      padding: 0 0 0 0;\n",
              "      width: 32px;\n",
              "    }\n",
              "\n",
              "    .colab-df-convert:hover {\n",
              "      background-color: #E2EBFA;\n",
              "      box-shadow: 0px 1px 2px rgba(60, 64, 67, 0.3), 0px 1px 3px 1px rgba(60, 64, 67, 0.15);\n",
              "      fill: #174EA6;\n",
              "    }\n",
              "\n",
              "    [theme=dark] .colab-df-convert {\n",
              "      background-color: #3B4455;\n",
              "      fill: #D2E3FC;\n",
              "    }\n",
              "\n",
              "    [theme=dark] .colab-df-convert:hover {\n",
              "      background-color: #434B5C;\n",
              "      box-shadow: 0px 1px 3px 1px rgba(0, 0, 0, 0.15);\n",
              "      filter: drop-shadow(0px 1px 2px rgba(0, 0, 0, 0.3));\n",
              "      fill: #FFFFFF;\n",
              "    }\n",
              "  </style>\n",
              "\n",
              "      <script>\n",
              "        const buttonEl =\n",
              "          document.querySelector('#df-44383e42-641f-45a0-a38f-94be8afcc456 button.colab-df-convert');\n",
              "        buttonEl.style.display =\n",
              "          google.colab.kernel.accessAllowed ? 'block' : 'none';\n",
              "\n",
              "        async function convertToInteractive(key) {\n",
              "          const element = document.querySelector('#df-44383e42-641f-45a0-a38f-94be8afcc456');\n",
              "          const dataTable =\n",
              "            await google.colab.kernel.invokeFunction('convertToInteractive',\n",
              "                                                     [key], {});\n",
              "          if (!dataTable) return;\n",
              "\n",
              "          const docLinkHtml = 'Like what you see? Visit the ' +\n",
              "            '<a target=\"_blank\" href=https://colab.research.google.com/notebooks/data_table.ipynb>data table notebook</a>'\n",
              "            + ' to learn more about interactive tables.';\n",
              "          element.innerHTML = '';\n",
              "          dataTable['output_type'] = 'display_data';\n",
              "          await google.colab.output.renderOutput(dataTable, element);\n",
              "          const docLink = document.createElement('div');\n",
              "          docLink.innerHTML = docLinkHtml;\n",
              "          element.appendChild(docLink);\n",
              "        }\n",
              "      </script>\n",
              "    </div>\n",
              "  </div>\n",
              "  "
            ]
          },
          "metadata": {},
          "execution_count": 5
        }
      ]
    },
    {
      "cell_type": "code",
      "source": [
        "raw=df[['id','host_is_superhost','neighbourhood_group_cleansed','property_type','room_type','accommodates',\n",
        "             'bathrooms', 'bedrooms', 'beds', 'bed_type', 'amenities','number_of_reviews','review_scores_rating',\n",
        "             'review_scores_accuracy', 'review_scores_cleanliness', 'review_scores_checkin', \n",
        "             'review_scores_communication', 'review_scores_location', 'review_scores_value','price']]"
      ],
      "metadata": {
        "id": "qOg4u9lwHEwl"
      },
      "execution_count": 6,
      "outputs": []
    },
    {
      "cell_type": "code",
      "source": [
        "raw['price']=raw['price'].str.replace('$','')\n",
        "raw['price']=raw['price'].str.replace(',','')\n",
        "raw['price']=raw['price'].astype('float64')"
      ],
      "metadata": {
        "colab": {
          "base_uri": "https://localhost:8080/"
        },
        "id": "meYVQh5yHEug",
        "outputId": "637a227a-b124-4d97-a133-bdfd5e3bfb31"
      },
      "execution_count": 7,
      "outputs": [
        {
          "output_type": "stream",
          "name": "stderr",
          "text": [
            "/usr/local/lib/python3.7/dist-packages/ipykernel_launcher.py:1: FutureWarning: The default value of regex will change from True to False in a future version. In addition, single character regular expressions will *not* be treated as literal strings when regex=True.\n",
            "  \"\"\"Entry point for launching an IPython kernel.\n",
            "/usr/local/lib/python3.7/dist-packages/ipykernel_launcher.py:1: SettingWithCopyWarning: \n",
            "A value is trying to be set on a copy of a slice from a DataFrame.\n",
            "Try using .loc[row_indexer,col_indexer] = value instead\n",
            "\n",
            "See the caveats in the documentation: https://pandas.pydata.org/pandas-docs/stable/user_guide/indexing.html#returning-a-view-versus-a-copy\n",
            "  \"\"\"Entry point for launching an IPython kernel.\n",
            "/usr/local/lib/python3.7/dist-packages/ipykernel_launcher.py:2: SettingWithCopyWarning: \n",
            "A value is trying to be set on a copy of a slice from a DataFrame.\n",
            "Try using .loc[row_indexer,col_indexer] = value instead\n",
            "\n",
            "See the caveats in the documentation: https://pandas.pydata.org/pandas-docs/stable/user_guide/indexing.html#returning-a-view-versus-a-copy\n",
            "  \n",
            "/usr/local/lib/python3.7/dist-packages/ipykernel_launcher.py:3: SettingWithCopyWarning: \n",
            "A value is trying to be set on a copy of a slice from a DataFrame.\n",
            "Try using .loc[row_indexer,col_indexer] = value instead\n",
            "\n",
            "See the caveats in the documentation: https://pandas.pydata.org/pandas-docs/stable/user_guide/indexing.html#returning-a-view-versus-a-copy\n",
            "  This is separate from the ipykernel package so we can avoid doing imports until\n"
          ]
        }
      ]
    },
    {
      "cell_type": "code",
      "source": [
        "import numpy as np\n",
        "np.sum(raw.isnull())"
      ],
      "metadata": {
        "colab": {
          "base_uri": "https://localhost:8080/"
        },
        "id": "qFeSHcyWHEsb",
        "outputId": "13f24d54-3b1f-4f59-e79b-9c3d6ba48008"
      },
      "execution_count": 8,
      "outputs": [
        {
          "output_type": "execute_result",
          "data": {
            "text/plain": [
              "id                                0\n",
              "host_is_superhost                 2\n",
              "neighbourhood_group_cleansed      0\n",
              "property_type                     1\n",
              "room_type                         0\n",
              "accommodates                      0\n",
              "bathrooms                        16\n",
              "bedrooms                          6\n",
              "beds                              1\n",
              "bed_type                          0\n",
              "amenities                         0\n",
              "number_of_reviews                 0\n",
              "review_scores_rating            647\n",
              "review_scores_accuracy          658\n",
              "review_scores_cleanliness       653\n",
              "review_scores_checkin           658\n",
              "review_scores_communication     651\n",
              "review_scores_location          655\n",
              "review_scores_value             656\n",
              "price                             0\n",
              "dtype: int64"
            ]
          },
          "metadata": {},
          "execution_count": 8
        }
      ]
    },
    {
      "cell_type": "code",
      "source": [
        "raw.isnull().any()"
      ],
      "metadata": {
        "colab": {
          "base_uri": "https://localhost:8080/"
        },
        "id": "MVzi8VbmHEqV",
        "outputId": "ac8699ee-0795-424a-d587-d095636ba298"
      },
      "execution_count": 9,
      "outputs": [
        {
          "output_type": "execute_result",
          "data": {
            "text/plain": [
              "id                              False\n",
              "host_is_superhost                True\n",
              "neighbourhood_group_cleansed    False\n",
              "property_type                    True\n",
              "room_type                       False\n",
              "accommodates                    False\n",
              "bathrooms                        True\n",
              "bedrooms                         True\n",
              "beds                             True\n",
              "bed_type                        False\n",
              "amenities                       False\n",
              "number_of_reviews               False\n",
              "review_scores_rating             True\n",
              "review_scores_accuracy           True\n",
              "review_scores_cleanliness        True\n",
              "review_scores_checkin            True\n",
              "review_scores_communication      True\n",
              "review_scores_location           True\n",
              "review_scores_value              True\n",
              "price                           False\n",
              "dtype: bool"
            ]
          },
          "metadata": {},
          "execution_count": 9
        }
      ]
    },
    {
      "cell_type": "code",
      "source": [
        "raw"
      ],
      "metadata": {
        "colab": {
          "base_uri": "https://localhost:8080/",
          "height": 818
        },
        "id": "1vzk_0aZ1B14",
        "outputId": "1007f800-c952-4a23-b263-bb8366aba21a"
      },
      "execution_count": 10,
      "outputs": [
        {
          "output_type": "execute_result",
          "data": {
            "text/plain": [
              "            id host_is_superhost neighbourhood_group_cleansed property_type  \\\n",
              "0       241032                 f                   Queen Anne     Apartment   \n",
              "1       953595                 t                   Queen Anne     Apartment   \n",
              "2      3308979                 f                   Queen Anne         House   \n",
              "3      7421966                 f                   Queen Anne     Apartment   \n",
              "4       278830                 f                   Queen Anne         House   \n",
              "...        ...               ...                          ...           ...   \n",
              "3813   8101950                 f          Other neighborhoods         House   \n",
              "3814   8902327                 f                 Capitol Hill     Apartment   \n",
              "3815  10267360                 f               Rainier Valley         House   \n",
              "3816   9604740                 f                 Capitol Hill   Condominium   \n",
              "3817  10208623                 f                   Queen Anne     Apartment   \n",
              "\n",
              "            room_type  accommodates  bathrooms  bedrooms  beds  bed_type  \\\n",
              "0     Entire home/apt             4        1.0       1.0   1.0  Real Bed   \n",
              "1     Entire home/apt             4        1.0       1.0   1.0  Real Bed   \n",
              "2     Entire home/apt            11        4.5       5.0   7.0  Real Bed   \n",
              "3     Entire home/apt             3        1.0       0.0   2.0  Real Bed   \n",
              "4     Entire home/apt             6        2.0       3.0   3.0  Real Bed   \n",
              "...               ...           ...        ...       ...   ...       ...   \n",
              "3813  Entire home/apt             6        2.0       3.0   3.0  Real Bed   \n",
              "3814  Entire home/apt             4        1.0       1.0   2.0  Real Bed   \n",
              "3815  Entire home/apt             2        1.0       1.0   1.0  Real Bed   \n",
              "3816  Entire home/apt             2        1.0       0.0   1.0  Real Bed   \n",
              "3817  Entire home/apt             3        1.5       2.0   1.0  Real Bed   \n",
              "\n",
              "                                              amenities  number_of_reviews  \\\n",
              "0     {TV,\"Cable TV\",Internet,\"Wireless Internet\",\"A...                207   \n",
              "1     {TV,Internet,\"Wireless Internet\",Kitchen,\"Free...                 43   \n",
              "2     {TV,\"Cable TV\",Internet,\"Wireless Internet\",\"A...                 20   \n",
              "3     {Internet,\"Wireless Internet\",Kitchen,\"Indoor ...                  0   \n",
              "4     {TV,\"Cable TV\",Internet,\"Wireless Internet\",Ki...                 38   \n",
              "...                                                 ...                ...   \n",
              "3813  {TV,\"Cable TV\",Internet,\"Wireless Internet\",\"A...                  1   \n",
              "3814  {TV,\"Cable TV\",Internet,\"Wireless Internet\",Ki...                  2   \n",
              "3815  {\"Cable TV\",\"Wireless Internet\",Kitchen,\"Free ...                  0   \n",
              "3816  {TV,\"Wireless Internet\",Kitchen,\"Free Parking ...                  0   \n",
              "3817  {TV,\"Cable TV\",Internet,\"Wireless Internet\",Ki...                  0   \n",
              "\n",
              "      review_scores_rating  review_scores_accuracy  review_scores_cleanliness  \\\n",
              "0                     95.0                    10.0                       10.0   \n",
              "1                     96.0                    10.0                       10.0   \n",
              "2                     97.0                    10.0                       10.0   \n",
              "3                      NaN                     NaN                        NaN   \n",
              "4                     92.0                     9.0                        9.0   \n",
              "...                    ...                     ...                        ...   \n",
              "3813                  80.0                     8.0                       10.0   \n",
              "3814                 100.0                    10.0                       10.0   \n",
              "3815                   NaN                     NaN                        NaN   \n",
              "3816                   NaN                     NaN                        NaN   \n",
              "3817                   NaN                     NaN                        NaN   \n",
              "\n",
              "      review_scores_checkin  review_scores_communication  \\\n",
              "0                      10.0                         10.0   \n",
              "1                      10.0                         10.0   \n",
              "2                      10.0                         10.0   \n",
              "3                       NaN                          NaN   \n",
              "4                      10.0                         10.0   \n",
              "...                     ...                          ...   \n",
              "3813                    4.0                          8.0   \n",
              "3814                   10.0                         10.0   \n",
              "3815                    NaN                          NaN   \n",
              "3816                    NaN                          NaN   \n",
              "3817                    NaN                          NaN   \n",
              "\n",
              "      review_scores_location  review_scores_value  price  \n",
              "0                        9.0                 10.0   85.0  \n",
              "1                       10.0                 10.0  150.0  \n",
              "2                       10.0                 10.0  975.0  \n",
              "3                        NaN                  NaN  100.0  \n",
              "4                        9.0                  9.0  450.0  \n",
              "...                      ...                  ...    ...  \n",
              "3813                    10.0                  8.0  359.0  \n",
              "3814                    10.0                 10.0   79.0  \n",
              "3815                     NaN                  NaN   93.0  \n",
              "3816                     NaN                  NaN   99.0  \n",
              "3817                     NaN                  NaN   87.0  \n",
              "\n",
              "[3818 rows x 20 columns]"
            ],
            "text/html": [
              "\n",
              "  <div id=\"df-91e87b1b-13c7-4578-bfa0-2bfdc2bcdf5f\">\n",
              "    <div class=\"colab-df-container\">\n",
              "      <div>\n",
              "<style scoped>\n",
              "    .dataframe tbody tr th:only-of-type {\n",
              "        vertical-align: middle;\n",
              "    }\n",
              "\n",
              "    .dataframe tbody tr th {\n",
              "        vertical-align: top;\n",
              "    }\n",
              "\n",
              "    .dataframe thead th {\n",
              "        text-align: right;\n",
              "    }\n",
              "</style>\n",
              "<table border=\"1\" class=\"dataframe\">\n",
              "  <thead>\n",
              "    <tr style=\"text-align: right;\">\n",
              "      <th></th>\n",
              "      <th>id</th>\n",
              "      <th>host_is_superhost</th>\n",
              "      <th>neighbourhood_group_cleansed</th>\n",
              "      <th>property_type</th>\n",
              "      <th>room_type</th>\n",
              "      <th>accommodates</th>\n",
              "      <th>bathrooms</th>\n",
              "      <th>bedrooms</th>\n",
              "      <th>beds</th>\n",
              "      <th>bed_type</th>\n",
              "      <th>amenities</th>\n",
              "      <th>number_of_reviews</th>\n",
              "      <th>review_scores_rating</th>\n",
              "      <th>review_scores_accuracy</th>\n",
              "      <th>review_scores_cleanliness</th>\n",
              "      <th>review_scores_checkin</th>\n",
              "      <th>review_scores_communication</th>\n",
              "      <th>review_scores_location</th>\n",
              "      <th>review_scores_value</th>\n",
              "      <th>price</th>\n",
              "    </tr>\n",
              "  </thead>\n",
              "  <tbody>\n",
              "    <tr>\n",
              "      <th>0</th>\n",
              "      <td>241032</td>\n",
              "      <td>f</td>\n",
              "      <td>Queen Anne</td>\n",
              "      <td>Apartment</td>\n",
              "      <td>Entire home/apt</td>\n",
              "      <td>4</td>\n",
              "      <td>1.0</td>\n",
              "      <td>1.0</td>\n",
              "      <td>1.0</td>\n",
              "      <td>Real Bed</td>\n",
              "      <td>{TV,\"Cable TV\",Internet,\"Wireless Internet\",\"A...</td>\n",
              "      <td>207</td>\n",
              "      <td>95.0</td>\n",
              "      <td>10.0</td>\n",
              "      <td>10.0</td>\n",
              "      <td>10.0</td>\n",
              "      <td>10.0</td>\n",
              "      <td>9.0</td>\n",
              "      <td>10.0</td>\n",
              "      <td>85.0</td>\n",
              "    </tr>\n",
              "    <tr>\n",
              "      <th>1</th>\n",
              "      <td>953595</td>\n",
              "      <td>t</td>\n",
              "      <td>Queen Anne</td>\n",
              "      <td>Apartment</td>\n",
              "      <td>Entire home/apt</td>\n",
              "      <td>4</td>\n",
              "      <td>1.0</td>\n",
              "      <td>1.0</td>\n",
              "      <td>1.0</td>\n",
              "      <td>Real Bed</td>\n",
              "      <td>{TV,Internet,\"Wireless Internet\",Kitchen,\"Free...</td>\n",
              "      <td>43</td>\n",
              "      <td>96.0</td>\n",
              "      <td>10.0</td>\n",
              "      <td>10.0</td>\n",
              "      <td>10.0</td>\n",
              "      <td>10.0</td>\n",
              "      <td>10.0</td>\n",
              "      <td>10.0</td>\n",
              "      <td>150.0</td>\n",
              "    </tr>\n",
              "    <tr>\n",
              "      <th>2</th>\n",
              "      <td>3308979</td>\n",
              "      <td>f</td>\n",
              "      <td>Queen Anne</td>\n",
              "      <td>House</td>\n",
              "      <td>Entire home/apt</td>\n",
              "      <td>11</td>\n",
              "      <td>4.5</td>\n",
              "      <td>5.0</td>\n",
              "      <td>7.0</td>\n",
              "      <td>Real Bed</td>\n",
              "      <td>{TV,\"Cable TV\",Internet,\"Wireless Internet\",\"A...</td>\n",
              "      <td>20</td>\n",
              "      <td>97.0</td>\n",
              "      <td>10.0</td>\n",
              "      <td>10.0</td>\n",
              "      <td>10.0</td>\n",
              "      <td>10.0</td>\n",
              "      <td>10.0</td>\n",
              "      <td>10.0</td>\n",
              "      <td>975.0</td>\n",
              "    </tr>\n",
              "    <tr>\n",
              "      <th>3</th>\n",
              "      <td>7421966</td>\n",
              "      <td>f</td>\n",
              "      <td>Queen Anne</td>\n",
              "      <td>Apartment</td>\n",
              "      <td>Entire home/apt</td>\n",
              "      <td>3</td>\n",
              "      <td>1.0</td>\n",
              "      <td>0.0</td>\n",
              "      <td>2.0</td>\n",
              "      <td>Real Bed</td>\n",
              "      <td>{Internet,\"Wireless Internet\",Kitchen,\"Indoor ...</td>\n",
              "      <td>0</td>\n",
              "      <td>NaN</td>\n",
              "      <td>NaN</td>\n",
              "      <td>NaN</td>\n",
              "      <td>NaN</td>\n",
              "      <td>NaN</td>\n",
              "      <td>NaN</td>\n",
              "      <td>NaN</td>\n",
              "      <td>100.0</td>\n",
              "    </tr>\n",
              "    <tr>\n",
              "      <th>4</th>\n",
              "      <td>278830</td>\n",
              "      <td>f</td>\n",
              "      <td>Queen Anne</td>\n",
              "      <td>House</td>\n",
              "      <td>Entire home/apt</td>\n",
              "      <td>6</td>\n",
              "      <td>2.0</td>\n",
              "      <td>3.0</td>\n",
              "      <td>3.0</td>\n",
              "      <td>Real Bed</td>\n",
              "      <td>{TV,\"Cable TV\",Internet,\"Wireless Internet\",Ki...</td>\n",
              "      <td>38</td>\n",
              "      <td>92.0</td>\n",
              "      <td>9.0</td>\n",
              "      <td>9.0</td>\n",
              "      <td>10.0</td>\n",
              "      <td>10.0</td>\n",
              "      <td>9.0</td>\n",
              "      <td>9.0</td>\n",
              "      <td>450.0</td>\n",
              "    </tr>\n",
              "    <tr>\n",
              "      <th>...</th>\n",
              "      <td>...</td>\n",
              "      <td>...</td>\n",
              "      <td>...</td>\n",
              "      <td>...</td>\n",
              "      <td>...</td>\n",
              "      <td>...</td>\n",
              "      <td>...</td>\n",
              "      <td>...</td>\n",
              "      <td>...</td>\n",
              "      <td>...</td>\n",
              "      <td>...</td>\n",
              "      <td>...</td>\n",
              "      <td>...</td>\n",
              "      <td>...</td>\n",
              "      <td>...</td>\n",
              "      <td>...</td>\n",
              "      <td>...</td>\n",
              "      <td>...</td>\n",
              "      <td>...</td>\n",
              "      <td>...</td>\n",
              "    </tr>\n",
              "    <tr>\n",
              "      <th>3813</th>\n",
              "      <td>8101950</td>\n",
              "      <td>f</td>\n",
              "      <td>Other neighborhoods</td>\n",
              "      <td>House</td>\n",
              "      <td>Entire home/apt</td>\n",
              "      <td>6</td>\n",
              "      <td>2.0</td>\n",
              "      <td>3.0</td>\n",
              "      <td>3.0</td>\n",
              "      <td>Real Bed</td>\n",
              "      <td>{TV,\"Cable TV\",Internet,\"Wireless Internet\",\"A...</td>\n",
              "      <td>1</td>\n",
              "      <td>80.0</td>\n",
              "      <td>8.0</td>\n",
              "      <td>10.0</td>\n",
              "      <td>4.0</td>\n",
              "      <td>8.0</td>\n",
              "      <td>10.0</td>\n",
              "      <td>8.0</td>\n",
              "      <td>359.0</td>\n",
              "    </tr>\n",
              "    <tr>\n",
              "      <th>3814</th>\n",
              "      <td>8902327</td>\n",
              "      <td>f</td>\n",
              "      <td>Capitol Hill</td>\n",
              "      <td>Apartment</td>\n",
              "      <td>Entire home/apt</td>\n",
              "      <td>4</td>\n",
              "      <td>1.0</td>\n",
              "      <td>1.0</td>\n",
              "      <td>2.0</td>\n",
              "      <td>Real Bed</td>\n",
              "      <td>{TV,\"Cable TV\",Internet,\"Wireless Internet\",Ki...</td>\n",
              "      <td>2</td>\n",
              "      <td>100.0</td>\n",
              "      <td>10.0</td>\n",
              "      <td>10.0</td>\n",
              "      <td>10.0</td>\n",
              "      <td>10.0</td>\n",
              "      <td>10.0</td>\n",
              "      <td>10.0</td>\n",
              "      <td>79.0</td>\n",
              "    </tr>\n",
              "    <tr>\n",
              "      <th>3815</th>\n",
              "      <td>10267360</td>\n",
              "      <td>f</td>\n",
              "      <td>Rainier Valley</td>\n",
              "      <td>House</td>\n",
              "      <td>Entire home/apt</td>\n",
              "      <td>2</td>\n",
              "      <td>1.0</td>\n",
              "      <td>1.0</td>\n",
              "      <td>1.0</td>\n",
              "      <td>Real Bed</td>\n",
              "      <td>{\"Cable TV\",\"Wireless Internet\",Kitchen,\"Free ...</td>\n",
              "      <td>0</td>\n",
              "      <td>NaN</td>\n",
              "      <td>NaN</td>\n",
              "      <td>NaN</td>\n",
              "      <td>NaN</td>\n",
              "      <td>NaN</td>\n",
              "      <td>NaN</td>\n",
              "      <td>NaN</td>\n",
              "      <td>93.0</td>\n",
              "    </tr>\n",
              "    <tr>\n",
              "      <th>3816</th>\n",
              "      <td>9604740</td>\n",
              "      <td>f</td>\n",
              "      <td>Capitol Hill</td>\n",
              "      <td>Condominium</td>\n",
              "      <td>Entire home/apt</td>\n",
              "      <td>2</td>\n",
              "      <td>1.0</td>\n",
              "      <td>0.0</td>\n",
              "      <td>1.0</td>\n",
              "      <td>Real Bed</td>\n",
              "      <td>{TV,\"Wireless Internet\",Kitchen,\"Free Parking ...</td>\n",
              "      <td>0</td>\n",
              "      <td>NaN</td>\n",
              "      <td>NaN</td>\n",
              "      <td>NaN</td>\n",
              "      <td>NaN</td>\n",
              "      <td>NaN</td>\n",
              "      <td>NaN</td>\n",
              "      <td>NaN</td>\n",
              "      <td>99.0</td>\n",
              "    </tr>\n",
              "    <tr>\n",
              "      <th>3817</th>\n",
              "      <td>10208623</td>\n",
              "      <td>f</td>\n",
              "      <td>Queen Anne</td>\n",
              "      <td>Apartment</td>\n",
              "      <td>Entire home/apt</td>\n",
              "      <td>3</td>\n",
              "      <td>1.5</td>\n",
              "      <td>2.0</td>\n",
              "      <td>1.0</td>\n",
              "      <td>Real Bed</td>\n",
              "      <td>{TV,\"Cable TV\",Internet,\"Wireless Internet\",Ki...</td>\n",
              "      <td>0</td>\n",
              "      <td>NaN</td>\n",
              "      <td>NaN</td>\n",
              "      <td>NaN</td>\n",
              "      <td>NaN</td>\n",
              "      <td>NaN</td>\n",
              "      <td>NaN</td>\n",
              "      <td>NaN</td>\n",
              "      <td>87.0</td>\n",
              "    </tr>\n",
              "  </tbody>\n",
              "</table>\n",
              "<p>3818 rows × 20 columns</p>\n",
              "</div>\n",
              "      <button class=\"colab-df-convert\" onclick=\"convertToInteractive('df-91e87b1b-13c7-4578-bfa0-2bfdc2bcdf5f')\"\n",
              "              title=\"Convert this dataframe to an interactive table.\"\n",
              "              style=\"display:none;\">\n",
              "        \n",
              "  <svg xmlns=\"http://www.w3.org/2000/svg\" height=\"24px\"viewBox=\"0 0 24 24\"\n",
              "       width=\"24px\">\n",
              "    <path d=\"M0 0h24v24H0V0z\" fill=\"none\"/>\n",
              "    <path d=\"M18.56 5.44l.94 2.06.94-2.06 2.06-.94-2.06-.94-.94-2.06-.94 2.06-2.06.94zm-11 1L8.5 8.5l.94-2.06 2.06-.94-2.06-.94L8.5 2.5l-.94 2.06-2.06.94zm10 10l.94 2.06.94-2.06 2.06-.94-2.06-.94-.94-2.06-.94 2.06-2.06.94z\"/><path d=\"M17.41 7.96l-1.37-1.37c-.4-.4-.92-.59-1.43-.59-.52 0-1.04.2-1.43.59L10.3 9.45l-7.72 7.72c-.78.78-.78 2.05 0 2.83L4 21.41c.39.39.9.59 1.41.59.51 0 1.02-.2 1.41-.59l7.78-7.78 2.81-2.81c.8-.78.8-2.07 0-2.86zM5.41 20L4 18.59l7.72-7.72 1.47 1.35L5.41 20z\"/>\n",
              "  </svg>\n",
              "      </button>\n",
              "      \n",
              "  <style>\n",
              "    .colab-df-container {\n",
              "      display:flex;\n",
              "      flex-wrap:wrap;\n",
              "      gap: 12px;\n",
              "    }\n",
              "\n",
              "    .colab-df-convert {\n",
              "      background-color: #E8F0FE;\n",
              "      border: none;\n",
              "      border-radius: 50%;\n",
              "      cursor: pointer;\n",
              "      display: none;\n",
              "      fill: #1967D2;\n",
              "      height: 32px;\n",
              "      padding: 0 0 0 0;\n",
              "      width: 32px;\n",
              "    }\n",
              "\n",
              "    .colab-df-convert:hover {\n",
              "      background-color: #E2EBFA;\n",
              "      box-shadow: 0px 1px 2px rgba(60, 64, 67, 0.3), 0px 1px 3px 1px rgba(60, 64, 67, 0.15);\n",
              "      fill: #174EA6;\n",
              "    }\n",
              "\n",
              "    [theme=dark] .colab-df-convert {\n",
              "      background-color: #3B4455;\n",
              "      fill: #D2E3FC;\n",
              "    }\n",
              "\n",
              "    [theme=dark] .colab-df-convert:hover {\n",
              "      background-color: #434B5C;\n",
              "      box-shadow: 0px 1px 3px 1px rgba(0, 0, 0, 0.15);\n",
              "      filter: drop-shadow(0px 1px 2px rgba(0, 0, 0, 0.3));\n",
              "      fill: #FFFFFF;\n",
              "    }\n",
              "  </style>\n",
              "\n",
              "      <script>\n",
              "        const buttonEl =\n",
              "          document.querySelector('#df-91e87b1b-13c7-4578-bfa0-2bfdc2bcdf5f button.colab-df-convert');\n",
              "        buttonEl.style.display =\n",
              "          google.colab.kernel.accessAllowed ? 'block' : 'none';\n",
              "\n",
              "        async function convertToInteractive(key) {\n",
              "          const element = document.querySelector('#df-91e87b1b-13c7-4578-bfa0-2bfdc2bcdf5f');\n",
              "          const dataTable =\n",
              "            await google.colab.kernel.invokeFunction('convertToInteractive',\n",
              "                                                     [key], {});\n",
              "          if (!dataTable) return;\n",
              "\n",
              "          const docLinkHtml = 'Like what you see? Visit the ' +\n",
              "            '<a target=\"_blank\" href=https://colab.research.google.com/notebooks/data_table.ipynb>data table notebook</a>'\n",
              "            + ' to learn more about interactive tables.';\n",
              "          element.innerHTML = '';\n",
              "          dataTable['output_type'] = 'display_data';\n",
              "          await google.colab.output.renderOutput(dataTable, element);\n",
              "          const docLink = document.createElement('div');\n",
              "          docLink.innerHTML = docLinkHtml;\n",
              "          element.appendChild(docLink);\n",
              "        }\n",
              "      </script>\n",
              "    </div>\n",
              "  </div>\n",
              "  "
            ]
          },
          "metadata": {},
          "execution_count": 10
        }
      ]
    },
    {
      "cell_type": "code",
      "source": [
        "raw.shape[0]-raw.count()"
      ],
      "metadata": {
        "colab": {
          "base_uri": "https://localhost:8080/"
        },
        "id": "L_01T0I-HEoA",
        "outputId": "7da2e24a-39b2-4e35-e14f-ddbfd5886a74"
      },
      "execution_count": 11,
      "outputs": [
        {
          "output_type": "execute_result",
          "data": {
            "text/plain": [
              "id                                0\n",
              "host_is_superhost                 2\n",
              "neighbourhood_group_cleansed      0\n",
              "property_type                     1\n",
              "room_type                         0\n",
              "accommodates                      0\n",
              "bathrooms                        16\n",
              "bedrooms                          6\n",
              "beds                              1\n",
              "bed_type                          0\n",
              "amenities                         0\n",
              "number_of_reviews                 0\n",
              "review_scores_rating            647\n",
              "review_scores_accuracy          658\n",
              "review_scores_cleanliness       653\n",
              "review_scores_checkin           658\n",
              "review_scores_communication     651\n",
              "review_scores_location          655\n",
              "review_scores_value             656\n",
              "price                             0\n",
              "dtype: int64"
            ]
          },
          "metadata": {},
          "execution_count": 11
        }
      ]
    },
    {
      "cell_type": "code",
      "source": [
        "raw.review_scores_cleanliness.value_counts()"
      ],
      "metadata": {
        "colab": {
          "base_uri": "https://localhost:8080/"
        },
        "id": "PnwxlpTn0fj3",
        "outputId": "5106489f-1a8e-4f25-c2b7-92ed074f21e4"
      },
      "execution_count": 12,
      "outputs": [
        {
          "output_type": "execute_result",
          "data": {
            "text/plain": [
              "10.0    2161\n",
              "9.0      740\n",
              "8.0      184\n",
              "7.0       40\n",
              "6.0       30\n",
              "5.0        5\n",
              "4.0        4\n",
              "3.0        1\n",
              "Name: review_scores_cleanliness, dtype: int64"
            ]
          },
          "metadata": {},
          "execution_count": 12
        }
      ]
    },
    {
      "cell_type": "code",
      "source": [
        "raw.hist(figsize=(20,20));"
      ],
      "metadata": {
        "colab": {
          "base_uri": "https://localhost:8080/",
          "height": 1000
        },
        "id": "5D8vN8naHEiz",
        "outputId": "30d02f06-bf9b-4344-9952-5877520edcf4"
      },
      "execution_count": 13,
      "outputs": [
        {
          "output_type": "display_data",
          "data": {
            "text/plain": [
              "<Figure size 1440x1440 with 16 Axes>"
            ],
            "image/png": "[encoded data removed]"
          },
          "metadata": {
            "needs_background": "light"
          }
        }
      ]
    },
    {
      "cell_type": "code",
      "source": [
        "import numpy as np\n",
        "def fill_na(data,col_name):\n",
        "    '''\n",
        "    Function that fills na with 0 in review score related columns\n",
        "    Args:\n",
        "        data: name of dataset\n",
        "        col_name: name of colums that have missing values\n",
        "    ''' \n",
        "    data[col_name][np.isnan(data[col_name])]=0\n",
        "\n",
        "for i in raw.filter(regex='^review'):\n",
        "    fill_na(raw,i)\n",
        "\n",
        "raw.shape[0]-raw.count()"
      ],
      "metadata": {
        "colab": {
          "base_uri": "https://localhost:8080/"
        },
        "id": "5pfJ_d3qJOtg",
        "outputId": "9d70597f-70fe-468c-e20d-018f3f381aeb"
      },
      "execution_count": 29,
      "outputs": [
        {
          "output_type": "stream",
          "name": "stderr",
          "text": [
            "/usr/local/lib/python3.7/dist-packages/ipykernel_launcher.py:9: SettingWithCopyWarning: \n",
            "A value is trying to be set on a copy of a slice from a DataFrame\n",
            "\n",
            "See the caveats in the documentation: https://pandas.pydata.org/pandas-docs/stable/user_guide/indexing.html#returning-a-view-versus-a-copy\n",
            "  if __name__ == '__main__':\n",
            "/usr/local/lib/python3.7/dist-packages/pandas/core/generic.py:8870: SettingWithCopyWarning: \n",
            "A value is trying to be set on a copy of a slice from a DataFrame\n",
            "\n",
            "See the caveats in the documentation: https://pandas.pydata.org/pandas-docs/stable/user_guide/indexing.html#returning-a-view-versus-a-copy\n",
            "  return self._update_inplace(result)\n"
          ]
        },
        {
          "output_type": "execute_result",
          "data": {
            "text/plain": [
              "id                              0\n",
              "host_is_superhost               0\n",
              "neighbourhood_group_cleansed    0\n",
              "property_type                   0\n",
              "room_type                       0\n",
              "accommodates                    0\n",
              "bathrooms                       0\n",
              "bedrooms                        0\n",
              "beds                            0\n",
              "bed_type                        0\n",
              "amenities                       0\n",
              "number_of_reviews               0\n",
              "review_scores_rating            0\n",
              "review_scores_accuracy          0\n",
              "review_scores_cleanliness       0\n",
              "review_scores_checkin           0\n",
              "review_scores_communication     0\n",
              "review_scores_location          0\n",
              "review_scores_value             0\n",
              "price                           0\n",
              "dtype: int64"
            ]
          },
          "metadata": {},
          "execution_count": 29
        }
      ]
    },
    {
      "cell_type": "code",
      "source": [
        "raw=raw.dropna(subset=['host_is_superhost','property_type','bathrooms','bedrooms','beds'])\n",
        "\n",
        "raw.shape[0]-raw.count()"
      ],
      "metadata": {
        "colab": {
          "base_uri": "https://localhost:8080/"
        },
        "id": "V1xTb-hdJOqV",
        "outputId": "c7b5978a-07c2-43f1-c527-1ae2452498cb"
      },
      "execution_count": 30,
      "outputs": [
        {
          "output_type": "execute_result",
          "data": {
            "text/plain": [
              "id                              0\n",
              "host_is_superhost               0\n",
              "neighbourhood_group_cleansed    0\n",
              "property_type                   0\n",
              "room_type                       0\n",
              "accommodates                    0\n",
              "bathrooms                       0\n",
              "bedrooms                        0\n",
              "beds                            0\n",
              "bed_type                        0\n",
              "amenities                       0\n",
              "number_of_reviews               0\n",
              "review_scores_rating            0\n",
              "review_scores_accuracy          0\n",
              "review_scores_cleanliness       0\n",
              "review_scores_checkin           0\n",
              "review_scores_communication     0\n",
              "review_scores_location          0\n",
              "review_scores_value             0\n",
              "price                           0\n",
              "dtype: int64"
            ]
          },
          "metadata": {},
          "execution_count": 30
        }
      ]
    },
    {
      "cell_type": "code",
      "source": [
        "raw2=raw[['bathrooms', 'bedrooms', 'beds','review_scores_rating',\n",
        "             'review_scores_accuracy', 'review_scores_cleanliness', 'review_scores_checkin', \n",
        "             'review_scores_communication', 'review_scores_location', 'review_scores_value','price']]"
      ],
      "metadata": {
        "id": "1FkMpb05JOoR"
      },
      "execution_count": 31,
      "outputs": []
    },
    {
      "cell_type": "code",
      "source": [
        "raw2.dtypes"
      ],
      "metadata": {
        "colab": {
          "base_uri": "https://localhost:8080/"
        },
        "id": "UxZAlf-gNdQ_",
        "outputId": "7f4bc1f0-344c-4c24-a0f5-1e4879f96c11"
      },
      "execution_count": 32,
      "outputs": [
        {
          "output_type": "execute_result",
          "data": {
            "text/plain": [
              "bathrooms                      float64\n",
              "bedrooms                       float64\n",
              "beds                           float64\n",
              "review_scores_rating           float64\n",
              "review_scores_accuracy         float64\n",
              "review_scores_cleanliness      float64\n",
              "review_scores_checkin          float64\n",
              "review_scores_communication    float64\n",
              "review_scores_location         float64\n",
              "review_scores_value            float64\n",
              "price                          float64\n",
              "dtype: object"
            ]
          },
          "metadata": {},
          "execution_count": 32
        }
      ]
    },
    {
      "cell_type": "code",
      "source": [
        "raw2.isnull().any()"
      ],
      "metadata": {
        "colab": {
          "base_uri": "https://localhost:8080/"
        },
        "id": "ImKJh9aMOCJH",
        "outputId": "da999324-740e-45b3-db88-c7634598f605"
      },
      "execution_count": 33,
      "outputs": [
        {
          "output_type": "execute_result",
          "data": {
            "text/plain": [
              "bathrooms                      False\n",
              "bedrooms                       False\n",
              "beds                           False\n",
              "review_scores_rating           False\n",
              "review_scores_accuracy         False\n",
              "review_scores_cleanliness      False\n",
              "review_scores_checkin          False\n",
              "review_scores_communication    False\n",
              "review_scores_location         False\n",
              "review_scores_value            False\n",
              "price                          False\n",
              "dtype: bool"
            ]
          },
          "metadata": {},
          "execution_count": 33
        }
      ]
    },
    {
      "cell_type": "code",
      "source": [
        "np.isfinite(raw2.all())"
      ],
      "metadata": {
        "colab": {
          "base_uri": "https://localhost:8080/"
        },
        "id": "Tn6H-_-lS19h",
        "outputId": "5f60958a-aab1-4e0f-f7a6-37f36a4bcea5"
      },
      "execution_count": 34,
      "outputs": [
        {
          "output_type": "execute_result",
          "data": {
            "text/plain": [
              "bathrooms                      True\n",
              "bedrooms                       True\n",
              "beds                           True\n",
              "review_scores_rating           True\n",
              "review_scores_accuracy         True\n",
              "review_scores_cleanliness      True\n",
              "review_scores_checkin          True\n",
              "review_scores_communication    True\n",
              "review_scores_location         True\n",
              "review_scores_value            True\n",
              "price                          True\n",
              "dtype: bool"
            ]
          },
          "metadata": {},
          "execution_count": 34
        }
      ]
    },
    {
      "cell_type": "code",
      "source": [
        "np.isnan(raw2.any())"
      ],
      "metadata": {
        "colab": {
          "base_uri": "https://localhost:8080/"
        },
        "id": "jTpSiE93TPo_",
        "outputId": "8a2f9836-8f12-4f57-d57c-3c3c50599461"
      },
      "execution_count": 35,
      "outputs": [
        {
          "output_type": "execute_result",
          "data": {
            "text/plain": [
              "bathrooms                      False\n",
              "bedrooms                       False\n",
              "beds                           False\n",
              "review_scores_rating           False\n",
              "review_scores_accuracy         False\n",
              "review_scores_cleanliness      False\n",
              "review_scores_checkin          False\n",
              "review_scores_communication    False\n",
              "review_scores_location         False\n",
              "review_scores_value            False\n",
              "price                          False\n",
              "dtype: bool"
            ]
          },
          "metadata": {},
          "execution_count": 35
        }
      ]
    },
    {
      "cell_type": "code",
      "source": [
        "X = raw2[['bathrooms', 'bedrooms', 'beds','review_scores_rating',\n",
        "             'review_scores_accuracy', 'review_scores_cleanliness', 'review_scores_checkin', \n",
        "             'review_scores_communication', 'review_scores_location', 'review_scores_value']]\n",
        "y = raw2['price']\n",
        "X_train, X_test, y_train, y_test = train_test_split(X, y, test_size = .30, random_state=42) \n",
        "\n",
        "lm_model = LinearRegression(normalize=True) \n",
        "lm_model.fit(X_train, y_train) \n",
        "        \n",
        "y_test_preds = lm_model.predict(X_test) "
      ],
      "metadata": {
        "colab": {
          "base_uri": "https://localhost:8080/"
        },
        "id": "48GgMKBJYi_o",
        "outputId": "2f688e28-40b5-43d9-b6ec-6d4c2d5a2c34"
      },
      "execution_count": 37,
      "outputs": [
        {
          "output_type": "stream",
          "name": "stderr",
          "text": [
            "/usr/local/lib/python3.7/dist-packages/sklearn/linear_model/_base.py:145: FutureWarning: 'normalize' was deprecated in version 1.0 and will be removed in 1.2.\n",
            "If you wish to scale the data, use Pipeline with a StandardScaler in a preprocessing stage. To reproduce the previous behavior:\n",
            "\n",
            "from sklearn.pipeline import make_pipeline\n",
            "\n",
            "model = make_pipeline(StandardScaler(with_mean=False), LinearRegression())\n",
            "\n",
            "If you wish to pass a sample_weight parameter, you need to pass it as a fit parameter to each step of the pipeline as follows:\n",
            "\n",
            "kwargs = {s[0] + '__sample_weight': sample_weight for s in model.steps}\n",
            "model.fit(X, y, **kwargs)\n",
            "\n",
            "\n",
            "  FutureWarning,\n"
          ]
        }
      ]
    },
    {
      "cell_type": "code",
      "source": [
        "r2_score(y_test, y_test_preds)"
      ],
      "metadata": {
        "colab": {
          "base_uri": "https://localhost:8080/"
        },
        "id": "aZPYs1cheQ7V",
        "outputId": "1f81cae1-7bef-435f-df5b-f7980d9ab1e5"
      },
      "execution_count": 38,
      "outputs": [
        {
          "output_type": "execute_result",
          "data": {
            "text/plain": [
              "0.45894917007118896"
            ]
          },
          "metadata": {},
          "execution_count": 38
        }
      ]
    },
    {
      "cell_type": "code",
      "source": [
        "mean_squared_error(y_test, y_test_preds)"
      ],
      "metadata": {
        "colab": {
          "base_uri": "https://localhost:8080/"
        },
        "id": "El_vlHpwofrG",
        "outputId": "f90092ba-a961-40b5-a047-e58d189c3abe"
      },
      "execution_count": 39,
      "outputs": [
        {
          "output_type": "execute_result",
          "data": {
            "text/plain": [
              "4225.533781098349"
            ]
          },
          "metadata": {},
          "execution_count": 39
        }
      ]
    },
    {
      "cell_type": "code",
      "source": [
        "X_train, X_test, y_train, y_test = train_test_split(X, y, test_size = .30, random_state=42) \n",
        "\n",
        "lm2_model = RandomForestRegressor() \n",
        "lm2_model.fit(X_train, y_train) \n",
        "        \n",
        "\n",
        "y_test_preds = lm2_model.predict(X_test)"
      ],
      "metadata": {
        "id": "xUDbYVtg11lX"
      },
      "execution_count": 40,
      "outputs": []
    },
    {
      "cell_type": "code",
      "source": [
        "r2_score(y_test, y_test_preds)"
      ],
      "metadata": {
        "colab": {
          "base_uri": "https://localhost:8080/"
        },
        "id": "pmjnoK4LwDVM",
        "outputId": "8c28bfbf-884c-4494-e5ea-d7ed19681dea"
      },
      "execution_count": 41,
      "outputs": [
        {
          "output_type": "execute_result",
          "data": {
            "text/plain": [
              "0.47762546457971145"
            ]
          },
          "metadata": {},
          "execution_count": 41
        }
      ]
    },
    {
      "cell_type": "code",
      "source": [
        "mean_squared_error(y_test, y_test_preds)"
      ],
      "metadata": {
        "colab": {
          "base_uri": "https://localhost:8080/"
        },
        "id": "4hQwnwMqwGEu",
        "outputId": "1df753f1-9c9e-4f83-c031-23e5afd74a03"
      },
      "execution_count": 42,
      "outputs": [
        {
          "output_type": "execute_result",
          "data": {
            "text/plain": [
              "4079.674447767529"
            ]
          },
          "metadata": {},
          "execution_count": 42
        }
      ]
    }
  ]
}